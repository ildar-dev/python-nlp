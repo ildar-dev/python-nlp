{
 "cells": [
  {
   "source": [
    "#### Task 4\n",
    "### Decision Tree, KNN\n",
    "- [x] Использовать деревья решений в задаче классификации (sklearn)\n",
    "- [x] Использовать KNN в задаче классификации (sklearn)\n",
    "\n",
    "*Davletyarov Ildar, 11-808*"
   ],
   "cell_type": "markdown",
   "metadata": {}
  },
  {
   "cell_type": "code",
   "execution_count": 6,
   "metadata": {},
   "outputs": [
    {
     "output_type": "stream",
     "name": "stderr",
     "text": [
      "[nltk_data] Downloading package punkt to /Users/ildar/nltk_data...\n[nltk_data]   Package punkt is already up-to-date!\n"
     ]
    }
   ],
   "source": [
    "import nltk\n",
    "\n",
    "# stab for download nltk packages without SSL\n",
    "import ssl\n",
    "try:\n",
    "    _create_unverified_https_context = ssl._create_unverified_context\n",
    "except AttributeError:\n",
    "    pass\n",
    "else:\n",
    "    ssl._create_default_https_context = _create_unverified_https_context\n",
    "\n",
    "nltk.download('punkt')\n",
    "import re"
   ]
  },
  {
   "cell_type": "code",
   "execution_count": 7,
   "metadata": {},
   "outputs": [
    {
     "output_type": "stream",
     "name": "stderr",
     "text": [
      "[nltk_data] Downloading package wordnet to /Users/ildar/nltk_data...\n[nltk_data]   Package wordnet is already up-to-date!\n[nltk_data] Downloading package stopwords to /Users/ildar/nltk_data...\n[nltk_data]   Package stopwords is already up-to-date!\n"
     ]
    }
   ],
   "source": [
    "from nltk.stem import PorterStemmer\n",
    "import pandas as pd\n",
    "from sklearn.model_selection import train_test_split\n",
    "from sklearn.metrics import classification_report\n",
    "import numpy as np\n",
    "from collections import defaultdict\n",
    "import string\n",
    "import nltk\n",
    "from nltk import word_tokenize\n",
    "from nltk.stem import WordNetLemmatizer \n",
    "from nltk.probability import FreqDist\n",
    "nltk.download('wordnet')\n",
    "from nltk.corpus import stopwords\n",
    "nltk.download('stopwords')\n",
    "from sklearn.feature_extraction.text import TfidfVectorizer"
   ]
  },
  {
   "cell_type": "code",
   "execution_count": 8,
   "metadata": {},
   "outputs": [
    {
     "output_type": "execute_result",
     "data": {
      "text/plain": [
       "            id  sentiment                                             review\n",
       "0       5814_8          1  With all this stuff going down at the moment w...\n",
       "1       2381_9          1  \\The Classic War of the Worlds\\\" by Timothy Hi...\n",
       "2       7759_3          0  The film starts with a manager (Nicholas Bell)...\n",
       "3       3630_4          0  It must be assumed that those who praised this...\n",
       "4       9495_8          1  Superbly trashy and wondrously unpretentious 8...\n",
       "...        ...        ...                                                ...\n",
       "24995   3453_3          0  It seems like more consideration has gone into...\n",
       "24996   5064_1          0  I don't believe they made this film. Completel...\n",
       "24997  10905_3          0  Guy is a loser. Can't get girls, needs to buil...\n",
       "24998  10194_3          0  This 30 minute documentary Buñuel made in the ...\n",
       "24999   8478_8          1  I saw this movie as a child and it broke my he...\n",
       "\n",
       "[25000 rows x 3 columns]"
      ],
      "text/html": "<div>\n<style scoped>\n    .dataframe tbody tr th:only-of-type {\n        vertical-align: middle;\n    }\n\n    .dataframe tbody tr th {\n        vertical-align: top;\n    }\n\n    .dataframe thead th {\n        text-align: right;\n    }\n</style>\n<table border=\"1\" class=\"dataframe\">\n  <thead>\n    <tr style=\"text-align: right;\">\n      <th></th>\n      <th>id</th>\n      <th>sentiment</th>\n      <th>review</th>\n    </tr>\n  </thead>\n  <tbody>\n    <tr>\n      <th>0</th>\n      <td>5814_8</td>\n      <td>1</td>\n      <td>With all this stuff going down at the moment w...</td>\n    </tr>\n    <tr>\n      <th>1</th>\n      <td>2381_9</td>\n      <td>1</td>\n      <td>\\The Classic War of the Worlds\\\" by Timothy Hi...</td>\n    </tr>\n    <tr>\n      <th>2</th>\n      <td>7759_3</td>\n      <td>0</td>\n      <td>The film starts with a manager (Nicholas Bell)...</td>\n    </tr>\n    <tr>\n      <th>3</th>\n      <td>3630_4</td>\n      <td>0</td>\n      <td>It must be assumed that those who praised this...</td>\n    </tr>\n    <tr>\n      <th>4</th>\n      <td>9495_8</td>\n      <td>1</td>\n      <td>Superbly trashy and wondrously unpretentious 8...</td>\n    </tr>\n    <tr>\n      <th>...</th>\n      <td>...</td>\n      <td>...</td>\n      <td>...</td>\n    </tr>\n    <tr>\n      <th>24995</th>\n      <td>3453_3</td>\n      <td>0</td>\n      <td>It seems like more consideration has gone into...</td>\n    </tr>\n    <tr>\n      <th>24996</th>\n      <td>5064_1</td>\n      <td>0</td>\n      <td>I don't believe they made this film. Completel...</td>\n    </tr>\n    <tr>\n      <th>24997</th>\n      <td>10905_3</td>\n      <td>0</td>\n      <td>Guy is a loser. Can't get girls, needs to buil...</td>\n    </tr>\n    <tr>\n      <th>24998</th>\n      <td>10194_3</td>\n      <td>0</td>\n      <td>This 30 minute documentary Buñuel made in the ...</td>\n    </tr>\n    <tr>\n      <th>24999</th>\n      <td>8478_8</td>\n      <td>1</td>\n      <td>I saw this movie as a child and it broke my he...</td>\n    </tr>\n  </tbody>\n</table>\n<p>25000 rows × 3 columns</p>\n</div>"
     },
     "metadata": {},
     "execution_count": 8
    }
   ],
   "source": [
    "# load data\n",
    "DATA_PATH = \"/Users/ildar/Desktop/labeledTrainData.tsv\"\n",
    "df = pd.read_csv(DATA_PATH, sep='\\t', encoding='utf-8')"
   ]
  },
  {
   "cell_type": "code",
   "execution_count": 9,
   "metadata": {},
   "outputs": [
    {
     "output_type": "execute_result",
     "data": {
      "text/plain": [
       "{'id': '5814_8',\n",
       " 'sentiment': 1,\n",
       " 'review': \"With all this stuff going down at the moment with MJ i've started listening to his music, watching the odd documentary here and there, watched The Wiz and watched Moonwalker again. Maybe i just want to get a certain insight into this guy who i thought was really cool in the eighties just to maybe make up my mind whether he is guilty or innocent. Moonwalker is part biography, part feature film which i remember going to see at the cinema when it was originally released. Some of it has subtle messages about MJ's feeling towards the press and also the obvious message of drugs are bad m'kay.<br /><br />Visually impressive but of course this is all about Michael Jackson so unless you remotely like MJ in anyway then you are going to hate this and find it boring. Some may call MJ an egotist for consenting to the making of this movie BUT MJ and most of his fans would say that he made it for the fans which if true is really nice of him.<br /><br />The actual feature film bit when it finally starts is only on for 20 minutes or so excluding the Smooth Criminal sequence and Joe Pesci is convincing as a psychopathic all powerful drug lord. Why he wants MJ dead so bad is beyond me. Because MJ overheard his plans? Nah, Joe Pesci's character ranted that he wanted people to know it is he who is supplying drugs etc so i dunno, maybe he just hates MJ's music.<br /><br />Lots of cool things in this like MJ turning into a car and a robot and the whole Speed Demon sequence. Also, the director must have had the patience of a saint when it came to filming the kiddy Bad sequence as usually directors hate working with one kid let alone a whole bunch of them performing a complex dance scene.<br /><br />Bottom line, this movie is for people who like MJ on one level or another (which i think is most people). If not, then stay away. It does try and give off a wholesome message and ironically MJ's bestest buddy in this movie is a girl! Michael Jackson is truly one of the most talented people ever to grace this planet but is he guilty? Well, with all the attention i've gave this subject....hmmm well i don't know because people can be different behind closed doors, i know this for a fact. He is either an extremely nice but stupid guy or one of the most sickest liars. I hope he is not the latter.\"}"
      ]
     },
     "metadata": {},
     "execution_count": 9
    }
   ],
   "source": [
    "df.to_dict('records')[0]"
   ]
  },
  {
   "cell_type": "code",
   "execution_count": 10,
   "metadata": {},
   "outputs": [],
   "source": [
    "COUNT_WORDS = 1000\n",
    "texts = df.review.tolist()\n",
    "sentiment = df.sentiment.tolist()\n",
    "texts = texts[:COUNT_WORDS]"
   ]
  },
  {
   "cell_type": "code",
   "execution_count": 11,
   "metadata": {},
   "outputs": [],
   "source": [
    "def delete_html(text):\n",
    "    return text.replace('<br />', '')\n",
    "\n",
    "def transform_text(text, spec_chars, lemmatizer):\n",
    "    frequency = {}\n",
    "    w = []\n",
    "    text = text.lower() # to lower\n",
    "    word_list = nltk.word_tokenize(text) # tokenize\n",
    "    text = ' '.join([lemmatizer.lemmatize(w) for w in word_list]) #lemmatize\n",
    "    text = \"\".join([ch for ch in text if ch not in spec_chars]) # clear pointless chars\n",
    "    text = delete_html(text) # delete tags\n",
    "    fdist = FreqDist(text)\n",
    "    freq = fdist.most_common(15) # delete non-words\n",
    "    for j in range(15):\n",
    "        if freq[j][1] >= 4:\n",
    "            w.append(freq[j][0])\n",
    "    if len(w) > 0:\n",
    "        for k in range(len(w)):\n",
    "            text = text.replace(w[k], '')\n",
    "    word_list = nltk.word_tokenize(text)\n",
    "    text = ' '.join([lemmatizer.lemmatize(w) for w in word_list])\n",
    "    for word in text:\n",
    "        count = frequency.get(word,0)\n",
    "        frequency[word] = count + 1\n",
    "    for word in frequency.keys():\n",
    "        text = text.replace(word, str(frequency[word]))\n",
    "    return text"
   ]
  },
  {
   "cell_type": "code",
   "execution_count": 12,
   "metadata": {},
   "outputs": [],
   "source": [
    "class NaiveBayesClassifier:\n",
    "    def __init__(self, n_classes):\n",
    "        self.n_classes = n_classes\n",
    "        self.class_probs = {}\n",
    "        self.conditional_probabilities = {}\n",
    "        self._class_freq = defaultdict(lambda: 0)\n",
    "        self._feat_freq = defaultdict(lambda: 0)\n",
    "    \n",
    "    def fit(self, X, y):\n",
    "        for feature, label in zip(X, y):\n",
    "            self._class_freq[label] += 1\n",
    "            for value in feature:\n",
    "                self._feat_freq[(value, label)] += 1\n",
    "        \n",
    "        num_samples = len(X)\n",
    "        for k in self._class_freq:\n",
    "            self._class_freq[k] /= num_samples\n",
    "            \n",
    "        for value, label in self._feat_freq:\n",
    "            self._feat_freq[(value, label)] /= self._class_freq[label]\n",
    "            \n",
    "        return self       \n",
    "        \n",
    "    def predict(self, X):\n",
    "        return min(self._class_freq.keys(), key=lambda c : self._calculate_class_freq(X, c))\n",
    "    \n",
    "    def _calculate_class_freq(self, X, clss): # naive bayes ln of truth\n",
    "        freq = -np.log(self._class_freq[clss])\n",
    "        for feat in X:\n",
    "            freq += -np.log(self._feat_freq.get((feat, clss), 10 ** (-7)))\n",
    "        return freq"
   ]
  },
  {
   "cell_type": "code",
   "execution_count": 13,
   "metadata": {},
   "outputs": [],
   "source": [
    "spec_chars = string.punctuation + '\\n\\t'\n",
    "lemmatizer = WordNetLemmatizer()\n",
    "\n",
    "for i in range(len(texts)):\n",
    "    texts[i] = '0.' + transform_text(texts[i], spec_chars, lemmatizer)\n",
    "    texts[i] = [float(texts[i])]"
   ]
  },
  {
   "cell_type": "code",
   "execution_count": 14,
   "metadata": {},
   "outputs": [],
   "source": [
    "import numpy as np\n",
    "from sklearn.linear_model import LogisticRegression\n",
    "from sklearn.metrics import classification_report, confusion_matrix"
   ]
  },
  {
   "cell_type": "code",
   "execution_count": 15,
   "metadata": {},
   "outputs": [],
   "source": [
    "X = texts\n",
    "Y = sentiment[:COUNT_WORDS]"
   ]
  },
  {
   "cell_type": "code",
   "execution_count": 16,
   "metadata": {},
   "outputs": [],
   "source": [
    "X_train, X_test, Y_train, Y_test = train_test_split(X, Y, test_size = 0.3, random_state = 42)"
   ]
  },
  {
   "cell_type": "code",
   "execution_count": 17,
   "metadata": {},
   "outputs": [
    {
     "output_type": "stream",
     "name": "stdout",
     "text": [
      "              precision    recall  f1-score   support\n\n           0       0.54      0.59      0.56       158\n           1       0.49      0.43      0.46       142\n\n    accuracy                           0.52       300\n   macro avg       0.51      0.51      0.51       300\nweighted avg       0.51      0.52      0.51       300\n\n"
     ]
    }
   ],
   "source": [
    "# KNN DEPTH 10; NEIGHBORS 3\n",
    "from sklearn.tree import DecisionTreeClassifier\n",
    "from sklearn import metrics\n",
    "from sklearn.metrics import classification_report\n",
    "tree = DecisionTreeClassifier(max_depth = 10)\n",
    "tree_simple = tree.fit(X_train, Y_train)\n",
    "pred_proba = tree_simple.predict_proba(X_test)[::,1]\n",
    "fpr, tpr, _ = metrics.roc_curve(Y_test, pred_proba)\n",
    "auc = metrics.roc_auc_score(Y_test, pred_proba)\n",
    "predictions = tree_simple.predict(X_test)\n",
    "print(classification_report(Y_test, predictions))"
   ]
  },
  {
   "cell_type": "code",
   "execution_count": 18,
   "metadata": {},
   "outputs": [],
   "source": [
    "from sklearn.neighbors import KNeighborsRegressor\n",
    "KNN_model = KNeighborsRegressor(n_neighbors=3).fit(X_train,Y_train)"
   ]
  },
  {
   "cell_type": "code",
   "execution_count": 19,
   "metadata": {},
   "outputs": [],
   "source": [
    "KNN_predict = KNN_model.predict(X_test)\n",
    "pred_proba = tree_simple.predict_proba(X_test)[::,1]\n",
    "auc = metrics.roc_auc_score(Y_test, pred_proba)"
   ]
  },
  {
   "cell_type": "code",
   "execution_count": 20,
   "metadata": {},
   "outputs": [
    {
     "output_type": "stream",
     "name": "stdout",
     "text": [
      "0.5277010162239258\n"
     ]
    }
   ],
   "source": [
    "print(auc)"
   ]
  }
 ],
 "metadata": {
  "kernelspec": {
   "name": "python394jvsc74a57bd04cd7ab41f5fca4b9b44701077e38c5ffd31fe66a6cab21e0214b68d958d0e462",
   "display_name": "Python 3.9.4 64-bit"
  },
  "language_info": {
   "codemirror_mode": {
    "name": "ipython",
    "version": 3
   },
   "file_extension": ".py",
   "mimetype": "text/x-python",
   "name": "python",
   "nbconvert_exporter": "python",
   "pygments_lexer": "ipython3",
   "version": "3.9.4"
  },
  "metadata": {
   "interpreter": {
    "hash": "4cd7ab41f5fca4b9b44701077e38c5ffd31fe66a6cab21e0214b68d958d0e462"
   }
  }
 },
 "nbformat": 4,
 "nbformat_minor": 5
}